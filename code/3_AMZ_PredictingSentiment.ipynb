{
 "cells": [
  {
   "cell_type": "code",
   "execution_count": 1,
   "id": "cd5e8cda",
   "metadata": {},
   "outputs": [
    {
     "data": {
      "text/html": [
       "<div>\n",
       "<style scoped>\n",
       "    .dataframe tbody tr th:only-of-type {\n",
       "        vertical-align: middle;\n",
       "    }\n",
       "\n",
       "    .dataframe tbody tr th {\n",
       "        vertical-align: top;\n",
       "    }\n",
       "\n",
       "    .dataframe thead th {\n",
       "        text-align: right;\n",
       "    }\n",
       "</style>\n",
       "<table border=\"1\" class=\"dataframe\">\n",
       "  <thead>\n",
       "    <tr style=\"text-align: right;\">\n",
       "      <th></th>\n",
       "      <th>rating</th>\n",
       "      <th>employee_type</th>\n",
       "      <th>review_text</th>\n",
       "      <th>pros</th>\n",
       "      <th>cons</th>\n",
       "      <th>advice_to_management</th>\n",
       "    </tr>\n",
       "  </thead>\n",
       "  <tbody>\n",
       "    <tr>\n",
       "      <th>0</th>\n",
       "      <td>5</td>\n",
       "      <td>Current Employee</td>\n",
       "      <td>amazing place work</td>\n",
       "      <td>ive amazon month ive seen none horror stories ...</td>\n",
       "      <td>cons far seriously like said im sure amazon ba...</td>\n",
       "      <td>none</td>\n",
       "    </tr>\n",
       "    <tr>\n",
       "      <th>1</th>\n",
       "      <td>5</td>\n",
       "      <td>Current Employee</td>\n",
       "      <td>software development engineering manager</td>\n",
       "      <td>work hard fun make history proud self job</td>\n",
       "      <td>rus grand year related last years stock perfor...</td>\n",
       "      <td>none</td>\n",
       "    </tr>\n",
       "    <tr>\n",
       "      <th>2</th>\n",
       "      <td>5</td>\n",
       "      <td>Current Employee</td>\n",
       "      <td>get put</td>\n",
       "      <td>really smart people lot opportunity growth alw...</td>\n",
       "      <td>self motivated one hold hand tell youre great ...</td>\n",
       "      <td>onboarding training new employees thrown fire ...</td>\n",
       "    </tr>\n",
       "    <tr>\n",
       "      <th>3</th>\n",
       "      <td>3</td>\n",
       "      <td>Current Employee</td>\n",
       "      <td>exciting work abusive culture</td>\n",
       "      <td>jeff bezos steam brilliant continue make great...</td>\n",
       "      <td>management process abusive im currently manage...</td>\n",
       "      <td>dont pretend recent ny times article isolated ...</td>\n",
       "    </tr>\n",
       "    <tr>\n",
       "      <th>4</th>\n",
       "      <td>4</td>\n",
       "      <td>Current Employee</td>\n",
       "      <td>amazing people horrible others</td>\n",
       "      <td>amazon lots cool stuffbut lots boring stuff re...</td>\n",
       "      <td>youre responsible career progression finding p...</td>\n",
       "      <td>stack ranking horrible practice since rife fav...</td>\n",
       "    </tr>\n",
       "    <tr>\n",
       "      <th>...</th>\n",
       "      <td>...</td>\n",
       "      <td>...</td>\n",
       "      <td>...</td>\n",
       "      <td>...</td>\n",
       "      <td>...</td>\n",
       "      <td>...</td>\n",
       "    </tr>\n",
       "    <tr>\n",
       "      <th>4995</th>\n",
       "      <td>5</td>\n",
       "      <td>Current Employee</td>\n",
       "      <td>operations manager</td>\n",
       "      <td>talented hard working team fun work hard every...</td>\n",
       "      <td>worklife balance tough peak personal pride sta...</td>\n",
       "      <td>patient folks trying hard learn systems really...</td>\n",
       "    </tr>\n",
       "    <tr>\n",
       "      <th>4996</th>\n",
       "      <td>5</td>\n",
       "      <td>Current Employee</td>\n",
       "      <td>great company work</td>\n",
       "      <td>latest technologies cutting edge projects amaz...</td>\n",
       "      <td>call sucks part depends team periods stressful...</td>\n",
       "      <td>work retaining employees lot good work done pa...</td>\n",
       "    </tr>\n",
       "    <tr>\n",
       "      <th>4997</th>\n",
       "      <td>4</td>\n",
       "      <td>Current Employee</td>\n",
       "      <td>like job</td>\n",
       "      <td>think best things working shift times wage fac...</td>\n",
       "      <td>working bottom lot young people barely work ta...</td>\n",
       "      <td>separate teams seem every line together let pe...</td>\n",
       "    </tr>\n",
       "    <tr>\n",
       "      <th>4998</th>\n",
       "      <td>2</td>\n",
       "      <td>Former Employee</td>\n",
       "      <td>work unless want wage slave</td>\n",
       "      <td>pay large break room food trucks</td>\n",
       "      <td>lifework balance favoritism get berated gettin...</td>\n",
       "      <td>employees humans lives longer breaks realistic...</td>\n",
       "    </tr>\n",
       "    <tr>\n",
       "      <th>4999</th>\n",
       "      <td>2</td>\n",
       "      <td>Current Employee</td>\n",
       "      <td>ok really like code</td>\n",
       "      <td>friendly hardworking people full knowledge cha...</td>\n",
       "      <td>bad project management cycle overwork get prom...</td>\n",
       "      <td>none</td>\n",
       "    </tr>\n",
       "  </tbody>\n",
       "</table>\n",
       "<p>4948 rows × 6 columns</p>\n",
       "</div>"
      ],
      "text/plain": [
       "      rating      employee_type                               review_text  \\\n",
       "0          5  Current Employee                         amazing place work   \n",
       "1          5  Current Employee   software development engineering manager   \n",
       "2          5  Current Employee                                    get put   \n",
       "3          3  Current Employee              exciting work abusive culture   \n",
       "4          4  Current Employee             amazing people horrible others   \n",
       "...      ...                ...                                       ...   \n",
       "4995       5  Current Employee                         operations manager   \n",
       "4996       5  Current Employee                         great company work   \n",
       "4997       4  Current Employee                                   like job   \n",
       "4998       2   Former Employee                work unless want wage slave   \n",
       "4999       2  Current Employee                        ok really like code   \n",
       "\n",
       "                                                   pros  \\\n",
       "0     ive amazon month ive seen none horror stories ...   \n",
       "1             work hard fun make history proud self job   \n",
       "2     really smart people lot opportunity growth alw...   \n",
       "3     jeff bezos steam brilliant continue make great...   \n",
       "4     amazon lots cool stuffbut lots boring stuff re...   \n",
       "...                                                 ...   \n",
       "4995  talented hard working team fun work hard every...   \n",
       "4996  latest technologies cutting edge projects amaz...   \n",
       "4997  think best things working shift times wage fac...   \n",
       "4998                   pay large break room food trucks   \n",
       "4999  friendly hardworking people full knowledge cha...   \n",
       "\n",
       "                                                   cons  \\\n",
       "0     cons far seriously like said im sure amazon ba...   \n",
       "1     rus grand year related last years stock perfor...   \n",
       "2     self motivated one hold hand tell youre great ...   \n",
       "3     management process abusive im currently manage...   \n",
       "4     youre responsible career progression finding p...   \n",
       "...                                                 ...   \n",
       "4995  worklife balance tough peak personal pride sta...   \n",
       "4996  call sucks part depends team periods stressful...   \n",
       "4997  working bottom lot young people barely work ta...   \n",
       "4998  lifework balance favoritism get berated gettin...   \n",
       "4999  bad project management cycle overwork get prom...   \n",
       "\n",
       "                                   advice_to_management  \n",
       "0                                                  none  \n",
       "1                                                  none  \n",
       "2     onboarding training new employees thrown fire ...  \n",
       "3     dont pretend recent ny times article isolated ...  \n",
       "4     stack ranking horrible practice since rife fav...  \n",
       "...                                                 ...  \n",
       "4995  patient folks trying hard learn systems really...  \n",
       "4996  work retaining employees lot good work done pa...  \n",
       "4997  separate teams seem every line together let pe...  \n",
       "4998  employees humans lives longer breaks realistic...  \n",
       "4999                                               none  \n",
       "\n",
       "[4948 rows x 6 columns]"
      ]
     },
     "execution_count": 1,
     "metadata": {},
     "output_type": "execute_result"
    }
   ],
   "source": [
    "# Write your code here\n",
    "\n",
    "import pandas as pd\n",
    "import warnings\n",
    "warnings.filterwarnings(\"ignore\")\n",
    "\n",
    "df = pd.read_csv('review_clean.csv', encoding = \"ISO-8859-1\")\n",
    "df = df.dropna()\n",
    "df"
   ]
  },
  {
   "cell_type": "code",
   "execution_count": 2,
   "id": "ef595182",
   "metadata": {},
   "outputs": [
    {
     "data": {
      "text/html": [
       "<div>\n",
       "<style scoped>\n",
       "    .dataframe tbody tr th:only-of-type {\n",
       "        vertical-align: middle;\n",
       "    }\n",
       "\n",
       "    .dataframe tbody tr th {\n",
       "        vertical-align: top;\n",
       "    }\n",
       "\n",
       "    .dataframe thead th {\n",
       "        text-align: right;\n",
       "    }\n",
       "</style>\n",
       "<table border=\"1\" class=\"dataframe\">\n",
       "  <thead>\n",
       "    <tr style=\"text-align: right;\">\n",
       "      <th></th>\n",
       "      <th>rating</th>\n",
       "      <th>review_text</th>\n",
       "    </tr>\n",
       "  </thead>\n",
       "  <tbody>\n",
       "    <tr>\n",
       "      <th>0</th>\n",
       "      <td>5</td>\n",
       "      <td>amazing place work</td>\n",
       "    </tr>\n",
       "    <tr>\n",
       "      <th>1</th>\n",
       "      <td>5</td>\n",
       "      <td>software development engineering manager</td>\n",
       "    </tr>\n",
       "    <tr>\n",
       "      <th>2</th>\n",
       "      <td>5</td>\n",
       "      <td>get put</td>\n",
       "    </tr>\n",
       "    <tr>\n",
       "      <th>3</th>\n",
       "      <td>3</td>\n",
       "      <td>exciting work abusive culture</td>\n",
       "    </tr>\n",
       "    <tr>\n",
       "      <th>4</th>\n",
       "      <td>4</td>\n",
       "      <td>amazing people horrible others</td>\n",
       "    </tr>\n",
       "  </tbody>\n",
       "</table>\n",
       "</div>"
      ],
      "text/plain": [
       "   rating                               review_text\n",
       "0       5                        amazing place work\n",
       "1       5  software development engineering manager\n",
       "2       5                                   get put\n",
       "3       3             exciting work abusive culture\n",
       "4       4            amazing people horrible others"
      ]
     },
     "execution_count": 2,
     "metadata": {},
     "output_type": "execute_result"
    }
   ],
   "source": [
    "df = df[['rating', 'review_text']]\n",
    "df.head()"
   ]
  },
  {
   "cell_type": "code",
   "execution_count": 3,
   "id": "f5a33358",
   "metadata": {},
   "outputs": [
    {
     "data": {
      "text/html": [
       "<div>\n",
       "<style scoped>\n",
       "    .dataframe tbody tr th:only-of-type {\n",
       "        vertical-align: middle;\n",
       "    }\n",
       "\n",
       "    .dataframe tbody tr th {\n",
       "        vertical-align: top;\n",
       "    }\n",
       "\n",
       "    .dataframe thead th {\n",
       "        text-align: right;\n",
       "    }\n",
       "</style>\n",
       "<table border=\"1\" class=\"dataframe\">\n",
       "  <thead>\n",
       "    <tr style=\"text-align: right;\">\n",
       "      <th></th>\n",
       "      <th>rating</th>\n",
       "      <th>review_text</th>\n",
       "      <th>sentiment</th>\n",
       "    </tr>\n",
       "  </thead>\n",
       "  <tbody>\n",
       "    <tr>\n",
       "      <th>0</th>\n",
       "      <td>5</td>\n",
       "      <td>amazing place work</td>\n",
       "      <td>positive</td>\n",
       "    </tr>\n",
       "    <tr>\n",
       "      <th>1</th>\n",
       "      <td>5</td>\n",
       "      <td>software development engineering manager</td>\n",
       "      <td>positive</td>\n",
       "    </tr>\n",
       "    <tr>\n",
       "      <th>2</th>\n",
       "      <td>5</td>\n",
       "      <td>get put</td>\n",
       "      <td>positive</td>\n",
       "    </tr>\n",
       "    <tr>\n",
       "      <th>3</th>\n",
       "      <td>3</td>\n",
       "      <td>exciting work abusive culture</td>\n",
       "      <td>neutral</td>\n",
       "    </tr>\n",
       "    <tr>\n",
       "      <th>4</th>\n",
       "      <td>4</td>\n",
       "      <td>amazing people horrible others</td>\n",
       "      <td>positive</td>\n",
       "    </tr>\n",
       "  </tbody>\n",
       "</table>\n",
       "</div>"
      ],
      "text/plain": [
       "   rating                               review_text sentiment\n",
       "0       5                        amazing place work  positive\n",
       "1       5  software development engineering manager  positive\n",
       "2       5                                   get put  positive\n",
       "3       3             exciting work abusive culture   neutral\n",
       "4       4            amazing people horrible others  positive"
      ]
     },
     "execution_count": 3,
     "metadata": {},
     "output_type": "execute_result"
    }
   ],
   "source": [
    "# define function to determine sentiment\n",
    "\n",
    "def sent(score):\n",
    "    if score < 3:\n",
    "        return 'negative'\n",
    "    elif score > 3:\n",
    "        return 'positive'\n",
    "    else:\n",
    "        return 'neutral'\n",
    "    \n",
    "df['sentiment'] = df['rating'].apply(sent)\n",
    "df.head()"
   ]
  },
  {
   "cell_type": "code",
   "execution_count": 4,
   "id": "a747b026",
   "metadata": {},
   "outputs": [],
   "source": [
    "X = df['review_text']\n",
    "y = df['sentiment']"
   ]
  },
  {
   "cell_type": "code",
   "execution_count": 5,
   "id": "7c449876",
   "metadata": {},
   "outputs": [],
   "source": [
    "from sklearn.model_selection import train_test_split\n",
    "from sklearn.feature_extraction.text import CountVectorizer\n",
    "from sklearn import metrics\n",
    "from sklearn.metrics import accuracy_score\n",
    "from sklearn.metrics import precision_score\n",
    "from sklearn.metrics import recall_score\n",
    "from sklearn.metrics import f1_score"
   ]
  },
  {
   "cell_type": "code",
   "execution_count": 6,
   "id": "9b473e1b",
   "metadata": {},
   "outputs": [],
   "source": [
    "# random forest regression\n",
    "\n",
    "X_train, X_test, y_train, y_test = train_test_split(X, y, test_size=0.2, random_state=10)\n",
    "\n",
    "vect = CountVectorizer(min_df = 2, ngram_range=(1, 2))\n",
    "X_train = vect.fit(X_train).transform(X_train) \n",
    "X_test = vect.transform(X_test)"
   ]
  },
  {
   "cell_type": "code",
   "execution_count": 7,
   "id": "2554a5bf",
   "metadata": {},
   "outputs": [
    {
     "data": {
      "text/plain": [
       "RandomForestClassifier(n_estimators=200, random_state=10)"
      ]
     },
     "execution_count": 7,
     "metadata": {},
     "output_type": "execute_result"
    }
   ],
   "source": [
    "# build the mode\n",
    "from sklearn.ensemble import RandomForestClassifier\n",
    "\n",
    "RF_model = RandomForestClassifier(n_estimators=200, random_state=10)\n",
    "RF_model.fit(X_train, y_train)"
   ]
  },
  {
   "cell_type": "code",
   "execution_count": 8,
   "id": "25694314",
   "metadata": {},
   "outputs": [],
   "source": [
    "RF_pred = RF_model.predict(X_test)"
   ]
  },
  {
   "cell_type": "code",
   "execution_count": 9,
   "id": "1257acac",
   "metadata": {},
   "outputs": [
    {
     "name": "stdout",
     "output_type": "stream",
     "text": [
      "Accuracy: 0.5656565656565656\n",
      "Precision: 0.4813828710971568\n",
      "Recall: 0.43375291349708106\n",
      "f1 score: 0.4399079989777664\n"
     ]
    }
   ],
   "source": [
    "print(\"Accuracy:\",metrics.accuracy_score(y_test, RF_pred))\n",
    "print(\"Precision:\",metrics.precision_score(y_test, RF_pred, average = 'macro'))\n",
    "print(\"Recall:\",metrics.recall_score(y_test, RF_pred, average = 'macro'))\n",
    "print(\"f1 score:\",metrics.f1_score(y_test, RF_pred, average = 'macro'))"
   ]
  },
  {
   "cell_type": "code",
   "execution_count": 10,
   "id": "749e6a61",
   "metadata": {},
   "outputs": [],
   "source": [
    "# logistic regression\n",
    "\n",
    "X_train, X_test, y_train, y_test = train_test_split(X, y, test_size=0.2, random_state=10)\n",
    "\n",
    "vect = CountVectorizer(min_df = 2, ngram_range=(1, 2))\n",
    "X_train = vect.fit(X_train).transform(X_train) \n",
    "X_test = vect.transform(X_test)"
   ]
  },
  {
   "cell_type": "code",
   "execution_count": 11,
   "id": "614e72fa",
   "metadata": {},
   "outputs": [
    {
     "data": {
      "text/plain": [
       "LogisticRegression()"
      ]
     },
     "execution_count": 11,
     "metadata": {},
     "output_type": "execute_result"
    }
   ],
   "source": [
    "# build the model\n",
    "from sklearn.linear_model import LogisticRegression\n",
    "\n",
    "LogR_model = LogisticRegression()\n",
    "LogR_model.fit(X_train, y_train)"
   ]
  },
  {
   "cell_type": "code",
   "execution_count": 12,
   "id": "f6d742b9",
   "metadata": {},
   "outputs": [],
   "source": [
    "LogR_pred = LogR_model.predict(X_test)"
   ]
  },
  {
   "cell_type": "code",
   "execution_count": 13,
   "id": "94bd9573",
   "metadata": {},
   "outputs": [
    {
     "name": "stdout",
     "output_type": "stream",
     "text": [
      "Accuracy: 0.602020202020202\n",
      "Precision: 0.5300313775999561\n",
      "Recall: 0.4422793682922932\n",
      "f1 score: 0.4451781047888435\n"
     ]
    }
   ],
   "source": [
    "print(\"Accuracy:\",metrics.accuracy_score(y_test, LogR_pred))\n",
    "print(\"Precision:\",metrics.precision_score(y_test, LogR_pred,average = 'macro'))\n",
    "print(\"Recall:\",metrics.recall_score(y_test, LogR_pred,average = 'macro'))\n",
    "print(\"f1 score:\",metrics.f1_score(y_test, LogR_pred,average = 'macro'))"
   ]
  },
  {
   "cell_type": "code",
   "execution_count": 14,
   "id": "bd336000",
   "metadata": {},
   "outputs": [
    {
     "name": "stdout",
     "output_type": "stream",
     "text": [
      "Accuracy: 0.6212121212121212\n",
      "Precision: 0.5331611585120014\n",
      "Recall: 0.44941038562317587\n",
      "f1 score: 0.4588186646545835\n"
     ]
    }
   ],
   "source": [
    "# SVM\n",
    "from sklearn import svm\n",
    "X_train, X_test, y_train, y_test = train_test_split(X, y, test_size = 0.2, random_state=42)\n",
    "\n",
    "vect = CountVectorizer(min_df=2, ngram_range=(1, 2))\n",
    "X_train = vect.fit(X_train).transform(X_train) \n",
    "X_test = vect.transform(X_test)\n",
    "clf = svm.SVC(kernel='linear')\n",
    "clf.fit(X_train, y_train)\n",
    "y_pred = clf.predict(X_test)\n",
    "print(\"Accuracy:\",metrics.accuracy_score(y_test, y_pred))\n",
    "print(\"Precision:\",metrics.precision_score(y_test, y_pred,average = 'macro'))\n",
    "print(\"Recall:\",metrics.recall_score(y_test, y_pred,average = 'macro'))\n",
    "print(\"f1 score:\",metrics.f1_score(y_test, y_pred,average = 'macro'))"
   ]
  },
  {
   "cell_type": "code",
   "execution_count": null,
   "id": "f9f6dd7a",
   "metadata": {},
   "outputs": [],
   "source": []
  }
 ],
 "metadata": {
  "kernelspec": {
   "display_name": "Python 3 (ipykernel)",
   "language": "python",
   "name": "python3"
  },
  "language_info": {
   "codemirror_mode": {
    "name": "ipython",
    "version": 3
   },
   "file_extension": ".py",
   "mimetype": "text/x-python",
   "name": "python",
   "nbconvert_exporter": "python",
   "pygments_lexer": "ipython3",
   "version": "3.8.3"
  }
 },
 "nbformat": 4,
 "nbformat_minor": 5
}
