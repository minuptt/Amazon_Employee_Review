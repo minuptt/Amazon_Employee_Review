{
 "cells": [
  {
   "cell_type": "markdown",
   "id": "d17e4948",
   "metadata": {},
   "source": [
    "# Import Libraries"
   ]
  },
  {
   "cell_type": "code",
   "execution_count": 12,
   "id": "2322c65f",
   "metadata": {},
   "outputs": [],
   "source": [
    "import numpy as np\n",
    "import pandas as pd\n",
    "import spacy\n",
    "import re\n",
    "\n",
    "import seaborn as sns\n",
    "import matplotlib.pyplot as plt\n",
    "import glob\n"
   ]
  },
  {
   "cell_type": "markdown",
   "id": "551b35b2",
   "metadata": {},
   "source": [
    "# Load data"
   ]
  },
  {
   "cell_type": "code",
   "execution_count": 2,
   "id": "b64c55d5",
   "metadata": {},
   "outputs": [],
   "source": [
    "# Load the data into a Pandas DataFrame\n",
    "\n",
    "df = pd.read_excel('Data_Amazon_EmployeeReview.xlsx')\n"
   ]
  },
  {
   "cell_type": "markdown",
   "id": "39e97806",
   "metadata": {},
   "source": [
    "## Look at the dataframe"
   ]
  },
  {
   "cell_type": "code",
   "execution_count": 4,
   "id": "1c4eff3a",
   "metadata": {},
   "outputs": [
    {
     "data": {
      "text/html": [
       "<div>\n",
       "<style scoped>\n",
       "    .dataframe tbody tr th:only-of-type {\n",
       "        vertical-align: middle;\n",
       "    }\n",
       "\n",
       "    .dataframe tbody tr th {\n",
       "        vertical-align: top;\n",
       "    }\n",
       "\n",
       "    .dataframe thead th {\n",
       "        text-align: right;\n",
       "    }\n",
       "</style>\n",
       "<table border=\"1\" class=\"dataframe\">\n",
       "  <thead>\n",
       "    <tr style=\"text-align: right;\">\n",
       "      <th></th>\n",
       "      <th>company</th>\n",
       "      <th>location</th>\n",
       "      <th>Dates</th>\n",
       "      <th>Employee Type</th>\n",
       "      <th>Job Title</th>\n",
       "      <th>summary</th>\n",
       "      <th>pros</th>\n",
       "      <th>cons</th>\n",
       "      <th>advice-to-mgmt</th>\n",
       "      <th>overall-ratings</th>\n",
       "      <th>work-balance-stars</th>\n",
       "      <th>culture-values-stars</th>\n",
       "      <th>carrer-opportunities-stars</th>\n",
       "      <th>comp-benefit-stars</th>\n",
       "      <th>senior-mangemnet-stars</th>\n",
       "      <th>helpful-count</th>\n",
       "      <th>link</th>\n",
       "    </tr>\n",
       "  </thead>\n",
       "  <tbody>\n",
       "    <tr>\n",
       "      <th>0</th>\n",
       "      <td>amazon</td>\n",
       "      <td>Phoenix, AZ</td>\n",
       "      <td>2018-12-10</td>\n",
       "      <td>Current Employee</td>\n",
       "      <td>Software Development Manager</td>\n",
       "      <td>An Amazing Place to Work</td>\n",
       "      <td>I've been at Amazon for a month now, and I've ...</td>\n",
       "      <td>No cons, so far - seriously. Like I said, I'm ...</td>\n",
       "      <td>none</td>\n",
       "      <td>5</td>\n",
       "      <td>4</td>\n",
       "      <td>5</td>\n",
       "      <td>5</td>\n",
       "      <td>5</td>\n",
       "      <td>5</td>\n",
       "      <td>580</td>\n",
       "      <td>https://www.glassdoor.com/Reviews/Amazon-Revie...</td>\n",
       "    </tr>\n",
       "    <tr>\n",
       "      <th>1</th>\n",
       "      <td>amazon</td>\n",
       "      <td>Sunnyvale, CA</td>\n",
       "      <td>2018-12-10</td>\n",
       "      <td>Current Employee</td>\n",
       "      <td>Manager, Software Development &amp;amp, Engineering</td>\n",
       "      <td>Software Development Engineering Manager</td>\n",
       "      <td>Work hard, have fun, make history. Be proud of...</td>\n",
       "      <td>RUS grand each year related to last year's sto...</td>\n",
       "      <td>none</td>\n",
       "      <td>5</td>\n",
       "      <td>5</td>\n",
       "      <td>5</td>\n",
       "      <td>5</td>\n",
       "      <td>4</td>\n",
       "      <td>5</td>\n",
       "      <td>0</td>\n",
       "      <td>https://www.glassdoor.com/Reviews/Amazon-Revie...</td>\n",
       "    </tr>\n",
       "    <tr>\n",
       "      <th>2</th>\n",
       "      <td>amazon</td>\n",
       "      <td>Seattle, WA</td>\n",
       "      <td>2016-01-10</td>\n",
       "      <td>Current Employee</td>\n",
       "      <td>Anonymous Employee</td>\n",
       "      <td>You Get What You Put In</td>\n",
       "      <td>Really smart people, a lot of opportunity for ...</td>\n",
       "      <td>You have to be self motivated. NO ONE will hol...</td>\n",
       "      <td>More on-boarding training before new employees...</td>\n",
       "      <td>5</td>\n",
       "      <td>4</td>\n",
       "      <td>5</td>\n",
       "      <td>5</td>\n",
       "      <td>5</td>\n",
       "      <td>5</td>\n",
       "      <td>1759</td>\n",
       "      <td>https://www.glassdoor.com/Reviews/Amazon-Revie...</td>\n",
       "    </tr>\n",
       "    <tr>\n",
       "      <th>3</th>\n",
       "      <td>amazon</td>\n",
       "      <td>Seattle, WA</td>\n",
       "      <td>2016-02-20</td>\n",
       "      <td>Current Employee</td>\n",
       "      <td>Senior Engineering Manager</td>\n",
       "      <td>Exciting Work, Abusive Culture</td>\n",
       "      <td>Jeff Bezos and his \"S-Team\" are brilliant and ...</td>\n",
       "      <td>The management process is abusive, and I'm cur...</td>\n",
       "      <td>Don't pretend that the recent NY Times article...</td>\n",
       "      <td>3</td>\n",
       "      <td>3</td>\n",
       "      <td>3</td>\n",
       "      <td>3</td>\n",
       "      <td>4</td>\n",
       "      <td>4</td>\n",
       "      <td>1404</td>\n",
       "      <td>https://www.glassdoor.com/Reviews/Amazon-Revie...</td>\n",
       "    </tr>\n",
       "    <tr>\n",
       "      <th>4</th>\n",
       "      <td>amazon</td>\n",
       "      <td>Seattle, WA</td>\n",
       "      <td>2013-12-17</td>\n",
       "      <td>Current Employee</td>\n",
       "      <td>Software Development Manager</td>\n",
       "      <td>Can be amazing for some people, horrible for o...</td>\n",
       "      <td>Amazon is doing lot's of cool stuff...but lots...</td>\n",
       "      <td>- You're responsible for your own career progr...</td>\n",
       "      <td>Stack ranking is a horrible practice since it'...</td>\n",
       "      <td>4</td>\n",
       "      <td>3</td>\n",
       "      <td>3</td>\n",
       "      <td>5</td>\n",
       "      <td>5</td>\n",
       "      <td>4</td>\n",
       "      <td>1275</td>\n",
       "      <td>https://www.glassdoor.com/Reviews/Amazon-Revie...</td>\n",
       "    </tr>\n",
       "  </tbody>\n",
       "</table>\n",
       "</div>"
      ],
      "text/plain": [
       "  company       location      Dates      Employee Type  \\\n",
       "0  amazon    Phoenix, AZ 2018-12-10  Current Employee    \n",
       "1  amazon  Sunnyvale, CA 2018-12-10  Current Employee    \n",
       "2  amazon    Seattle, WA 2016-01-10  Current Employee    \n",
       "3  amazon    Seattle, WA 2016-02-20  Current Employee    \n",
       "4  amazon    Seattle, WA 2013-12-17  Current Employee    \n",
       "\n",
       "                                          Job Title  \\\n",
       "0                      Software Development Manager   \n",
       "1   Manager, Software Development &amp, Engineering   \n",
       "2                                Anonymous Employee   \n",
       "3                        Senior Engineering Manager   \n",
       "4                      Software Development Manager   \n",
       "\n",
       "                                             summary  \\\n",
       "0                           An Amazing Place to Work   \n",
       "1           Software Development Engineering Manager   \n",
       "2                            You Get What You Put In   \n",
       "3                     Exciting Work, Abusive Culture   \n",
       "4  Can be amazing for some people, horrible for o...   \n",
       "\n",
       "                                                pros  \\\n",
       "0  I've been at Amazon for a month now, and I've ...   \n",
       "1  Work hard, have fun, make history. Be proud of...   \n",
       "2  Really smart people, a lot of opportunity for ...   \n",
       "3  Jeff Bezos and his \"S-Team\" are brilliant and ...   \n",
       "4  Amazon is doing lot's of cool stuff...but lots...   \n",
       "\n",
       "                                                cons  \\\n",
       "0  No cons, so far - seriously. Like I said, I'm ...   \n",
       "1  RUS grand each year related to last year's sto...   \n",
       "2  You have to be self motivated. NO ONE will hol...   \n",
       "3  The management process is abusive, and I'm cur...   \n",
       "4  - You're responsible for your own career progr...   \n",
       "\n",
       "                                      advice-to-mgmt  overall-ratings  \\\n",
       "0                                               none                5   \n",
       "1                                               none                5   \n",
       "2  More on-boarding training before new employees...                5   \n",
       "3  Don't pretend that the recent NY Times article...                3   \n",
       "4  Stack ranking is a horrible practice since it'...                4   \n",
       "\n",
       "  work-balance-stars culture-values-stars carrer-opportunities-stars  \\\n",
       "0                  4                    5                          5   \n",
       "1                  5                    5                          5   \n",
       "2                  4                    5                          5   \n",
       "3                  3                    3                          3   \n",
       "4                  3                    3                          5   \n",
       "\n",
       "  comp-benefit-stars senior-mangemnet-stars  helpful-count  \\\n",
       "0                  5                      5            580   \n",
       "1                  4                      5              0   \n",
       "2                  5                      5           1759   \n",
       "3                  4                      4           1404   \n",
       "4                  5                      4           1275   \n",
       "\n",
       "                                                link  \n",
       "0  https://www.glassdoor.com/Reviews/Amazon-Revie...  \n",
       "1  https://www.glassdoor.com/Reviews/Amazon-Revie...  \n",
       "2  https://www.glassdoor.com/Reviews/Amazon-Revie...  \n",
       "3  https://www.glassdoor.com/Reviews/Amazon-Revie...  \n",
       "4  https://www.glassdoor.com/Reviews/Amazon-Revie...  "
      ]
     },
     "execution_count": 4,
     "metadata": {},
     "output_type": "execute_result"
    }
   ],
   "source": [
    "df.head()"
   ]
  },
  {
   "cell_type": "markdown",
   "id": "db445cf3",
   "metadata": {},
   "source": [
    "# Preprocess the Dataset"
   ]
  },
  {
   "cell_type": "markdown",
   "id": "76ae6889",
   "metadata": {},
   "source": [
    "## Clean the data: Find and Mark Missing Values"
   ]
  },
  {
   "cell_type": "code",
   "execution_count": 6,
   "id": "0c51478d",
   "metadata": {},
   "outputs": [
    {
     "name": "stdout",
     "output_type": "stream",
     "text": [
      "company                          0\n",
      "location                         0\n",
      "Dates                            0\n",
      "Employee Type                    0\n",
      "Job Title                        0\n",
      "summary                          5\n",
      "pros                             6\n",
      "cons                             0\n",
      "advice-to-mgmt                  18\n",
      "overall-ratings                  0\n",
      "work-balance-stars               0\n",
      "culture-values-stars             0\n",
      "carrer-opportunities-stars       0\n",
      "comp-benefit-stars               0\n",
      "senior-mangemnet-stars           0\n",
      "helpful-count                 3769\n",
      "link                             0\n",
      "dtype: int64\n"
     ]
    }
   ],
   "source": [
    "# mark zero values as missing or NaN\n",
    "\n",
    "df[[ 'company' , 'location' , 'Dates' ,'Employee Type', 'Job Title', 'summary', \n",
    "    'pros', 'cons', 'advice-to-mgmt', 'overall-ratings', 'work-balance-stars',\n",
    "   'culture-values-stars', 'carrer-opportunities-stars', 'comp-benefit-stars',\n",
    "   'senior-mangemnet-stars', 'helpful-count', 'link']\n",
    "] \\\n",
    "= df[[ 'company' , 'location' , 'Dates' ,'Employee Type', 'Job Title', 'summary', \n",
    "    'pros', 'cons', 'advice-to-mgmt', 'overall-ratings', 'work-balance-stars',\n",
    "   'culture-values-stars', 'carrer-opportunities-stars', 'comp-benefit-stars',\n",
    "   'senior-mangemnet-stars', 'helpful-count', 'link']].replace(0,np.NaN)\n",
    "\n",
    "# count the number of NaN values in each column\n",
    "\n",
    "print (df.isnull().sum())\n"
   ]
  },
  {
   "cell_type": "markdown",
   "id": "e1488dac",
   "metadata": {},
   "source": [
    "## Performing the Exploratory Data Analysis (EDA)"
   ]
  },
  {
   "cell_type": "code",
   "execution_count": 7,
   "id": "f4518e35",
   "metadata": {},
   "outputs": [
    {
     "name": "stdout",
     "output_type": "stream",
     "text": [
      "Shape of the dataset(rows, columns): (5000, 17)\n"
     ]
    }
   ],
   "source": [
    "# get the dimensions or shape of the dataset\n",
    "# i.e. number of records / rows X number of variables / columns\n",
    "\n",
    "print(\"Shape of the dataset(rows, columns):\", df.shape)"
   ]
  },
  {
   "cell_type": "code",
   "execution_count": 8,
   "id": "90396dc6",
   "metadata": {},
   "outputs": [
    {
     "name": "stdout",
     "output_type": "stream",
     "text": [
      "company                               object\n",
      "location                              object\n",
      "Dates                         datetime64[ns]\n",
      "Employee Type                         object\n",
      "Job Title                             object\n",
      "summary                               object\n",
      "pros                                  object\n",
      "cons                                  object\n",
      "advice-to-mgmt                        object\n",
      "overall-ratings                        int64\n",
      "work-balance-stars                    object\n",
      "culture-values-stars                  object\n",
      "carrer-opportunities-stars            object\n",
      "comp-benefit-stars                    object\n",
      "senior-mangemnet-stars                object\n",
      "helpful-count                        float64\n",
      "link                                  object\n",
      "dtype: object\n"
     ]
    }
   ],
   "source": [
    "#get the data types of all the variables / attributes in the data set\n",
    "\n",
    "print(df.dtypes)"
   ]
  },
  {
   "cell_type": "code",
   "execution_count": 10,
   "id": "db0af80d",
   "metadata": {
    "scrolled": true
   },
   "outputs": [
    {
     "data": {
      "text/html": [
       "<div>\n",
       "<style scoped>\n",
       "    .dataframe tbody tr th:only-of-type {\n",
       "        vertical-align: middle;\n",
       "    }\n",
       "\n",
       "    .dataframe tbody tr th {\n",
       "        vertical-align: top;\n",
       "    }\n",
       "\n",
       "    .dataframe thead th {\n",
       "        text-align: right;\n",
       "    }\n",
       "</style>\n",
       "<table border=\"1\" class=\"dataframe\">\n",
       "  <thead>\n",
       "    <tr style=\"text-align: right;\">\n",
       "      <th></th>\n",
       "      <th>overall-ratings</th>\n",
       "      <th>helpful-count</th>\n",
       "    </tr>\n",
       "  </thead>\n",
       "  <tbody>\n",
       "    <tr>\n",
       "      <th>count</th>\n",
       "      <td>5000.000000</td>\n",
       "      <td>1231.000000</td>\n",
       "    </tr>\n",
       "    <tr>\n",
       "      <th>mean</th>\n",
       "      <td>3.613800</td>\n",
       "      <td>7.206336</td>\n",
       "    </tr>\n",
       "    <tr>\n",
       "      <th>std</th>\n",
       "      <td>1.298687</td>\n",
       "      <td>78.137432</td>\n",
       "    </tr>\n",
       "    <tr>\n",
       "      <th>min</th>\n",
       "      <td>1.000000</td>\n",
       "      <td>1.000000</td>\n",
       "    </tr>\n",
       "    <tr>\n",
       "      <th>25%</th>\n",
       "      <td>3.000000</td>\n",
       "      <td>1.000000</td>\n",
       "    </tr>\n",
       "    <tr>\n",
       "      <th>50%</th>\n",
       "      <td>4.000000</td>\n",
       "      <td>1.000000</td>\n",
       "    </tr>\n",
       "    <tr>\n",
       "      <th>75%</th>\n",
       "      <td>5.000000</td>\n",
       "      <td>2.000000</td>\n",
       "    </tr>\n",
       "    <tr>\n",
       "      <th>max</th>\n",
       "      <td>5.000000</td>\n",
       "      <td>1759.000000</td>\n",
       "    </tr>\n",
       "  </tbody>\n",
       "</table>\n",
       "</div>"
      ],
      "text/plain": [
       "       overall-ratings  helpful-count\n",
       "count      5000.000000    1231.000000\n",
       "mean          3.613800       7.206336\n",
       "std           1.298687      78.137432\n",
       "min           1.000000       1.000000\n",
       "25%           3.000000       1.000000\n",
       "50%           4.000000       1.000000\n",
       "75%           5.000000       2.000000\n",
       "max           5.000000    1759.000000"
      ]
     },
     "execution_count": 10,
     "metadata": {},
     "output_type": "execute_result"
    }
   ],
   "source": [
    "#return the summary statistics of the numeric variables/attributes in thedata set\n",
    "\n",
    "df.describe()\n"
   ]
  },
  {
   "cell_type": "code",
   "execution_count": 11,
   "id": "39c68811",
   "metadata": {},
   "outputs": [
    {
     "name": "stdout",
     "output_type": "stream",
     "text": [
      "<class 'pandas.core.frame.DataFrame'>\n",
      "RangeIndex: 5000 entries, 0 to 4999\n",
      "Data columns (total 17 columns):\n",
      " #   Column                      Non-Null Count  Dtype         \n",
      "---  ------                      --------------  -----         \n",
      " 0   company                     5000 non-null   object        \n",
      " 1   location                    5000 non-null   object        \n",
      " 2   Dates                       5000 non-null   datetime64[ns]\n",
      " 3   Employee Type               5000 non-null   object        \n",
      " 4   Job Title                   5000 non-null   object        \n",
      " 5   summary                     4995 non-null   object        \n",
      " 6   pros                        4994 non-null   object        \n",
      " 7   cons                        5000 non-null   object        \n",
      " 8   advice-to-mgmt              4982 non-null   object        \n",
      " 9   overall-ratings             5000 non-null   int64         \n",
      " 10  work-balance-stars          5000 non-null   object        \n",
      " 11  culture-values-stars        5000 non-null   object        \n",
      " 12  carrer-opportunities-stars  5000 non-null   object        \n",
      " 13  comp-benefit-stars          5000 non-null   object        \n",
      " 14  senior-mangemnet-stars      5000 non-null   object        \n",
      " 15  helpful-count               1231 non-null   float64       \n",
      " 16  link                        5000 non-null   object        \n",
      "dtypes: datetime64[ns](1), float64(1), int64(1), object(14)\n",
      "memory usage: 664.2+ KB\n"
     ]
    }
   ],
   "source": [
    "df.info()"
   ]
  },
  {
   "cell_type": "code",
   "execution_count": 23,
   "id": "ea884116",
   "metadata": {},
   "outputs": [
    {
     "name": "stderr",
     "output_type": "stream",
     "text": [
      "/Users/thiphan/opt/anaconda3/lib/python3.8/site-packages/seaborn/_decorators.py:36: FutureWarning: Pass the following variable as a keyword arg: x. From version 0.12, the only valid positional argument will be `data`, and passing other arguments without an explicit keyword will result in an error or misinterpretation.\n",
      "  warnings.warn(\n"
     ]
    },
    {
     "data": {
      "text/plain": [
       "[Text(0.5, 1.0, 'Rating Count')]"
      ]
     },
     "execution_count": 23,
     "metadata": {},
     "output_type": "execute_result"
    },
    {
     "data": {
      "image/png": "[encoded data removed]",
      "text/plain": [
       "<Figure size 432x288 with 1 Axes>"
      ]
     },
     "metadata": {
      "needs_background": "light"
     },
     "output_type": "display_data"
    }
   ],
   "source": [
    "# Total number of reviews by rating\n",
    "\n",
    "sns.countplot(df['overall-ratings']).set(title = 'Rating Count')\n"
   ]
  },
  {
   "cell_type": "code",
   "execution_count": 14,
   "id": "10823a76",
   "metadata": {},
   "outputs": [
    {
     "data": {
      "text/html": [
       "<div>\n",
       "<style scoped>\n",
       "    .dataframe tbody tr th:only-of-type {\n",
       "        vertical-align: middle;\n",
       "    }\n",
       "\n",
       "    .dataframe tbody tr th {\n",
       "        vertical-align: top;\n",
       "    }\n",
       "\n",
       "    .dataframe thead th {\n",
       "        text-align: right;\n",
       "    }\n",
       "</style>\n",
       "<table border=\"1\" class=\"dataframe\">\n",
       "  <thead>\n",
       "    <tr style=\"text-align: right;\">\n",
       "      <th></th>\n",
       "      <th>overall-ratings</th>\n",
       "      <th>percentage</th>\n",
       "    </tr>\n",
       "  </thead>\n",
       "  <tbody>\n",
       "    <tr>\n",
       "      <th>5</th>\n",
       "      <td>1622</td>\n",
       "      <td>0.3244</td>\n",
       "    </tr>\n",
       "    <tr>\n",
       "      <th>4</th>\n",
       "      <td>1332</td>\n",
       "      <td>0.2664</td>\n",
       "    </tr>\n",
       "    <tr>\n",
       "      <th>3</th>\n",
       "      <td>1033</td>\n",
       "      <td>0.2066</td>\n",
       "    </tr>\n",
       "    <tr>\n",
       "      <th>2</th>\n",
       "      <td>519</td>\n",
       "      <td>0.1038</td>\n",
       "    </tr>\n",
       "    <tr>\n",
       "      <th>1</th>\n",
       "      <td>494</td>\n",
       "      <td>0.0988</td>\n",
       "    </tr>\n",
       "  </tbody>\n",
       "</table>\n",
       "</div>"
      ],
      "text/plain": [
       "   overall-ratings  percentage\n",
       "5             1622      0.3244\n",
       "4             1332      0.2664\n",
       "3             1033      0.2066\n",
       "2              519      0.1038\n",
       "1              494      0.0988"
      ]
     },
     "execution_count": 14,
     "metadata": {},
     "output_type": "execute_result"
    }
   ],
   "source": [
    "# Percentage of reviews by ratings\n",
    "\n",
    "rating_count = pd.DataFrame(df['overall-ratings'].value_counts())\n",
    "rating_count['percentage'] = rating_count['overall-ratings']/rating_count['overall-ratings'].sum()\n",
    "\n",
    "rating_count"
   ]
  },
  {
   "cell_type": "code",
   "execution_count": 24,
   "id": "ce2f384f",
   "metadata": {},
   "outputs": [
    {
     "name": "stderr",
     "output_type": "stream",
     "text": [
      "/Users/thiphan/opt/anaconda3/lib/python3.8/site-packages/seaborn/_decorators.py:36: FutureWarning: Pass the following variable as a keyword arg: x. From version 0.12, the only valid positional argument will be `data`, and passing other arguments without an explicit keyword will result in an error or misinterpretation.\n",
      "  warnings.warn(\n"
     ]
    },
    {
     "data": {
      "text/plain": [
       "[Text(0.5, 1.0, 'work-balance-stars Count')]"
      ]
     },
     "execution_count": 24,
     "metadata": {},
     "output_type": "execute_result"
    },
    {
     "data": {
      "image/png": "[encoded data removed]",
      "text/plain": [
       "<Figure size 432x288 with 1 Axes>"
      ]
     },
     "metadata": {
      "needs_background": "light"
     },
     "output_type": "display_data"
    }
   ],
   "source": [
    "# Total number of work-balance-stars by rating\n",
    "\n",
    "sns.countplot(df['work-balance-stars']).set(title = 'work-balance-stars Count')\n"
   ]
  },
  {
   "cell_type": "code",
   "execution_count": 17,
   "id": "effe5acd",
   "metadata": {},
   "outputs": [
    {
     "name": "stderr",
     "output_type": "stream",
     "text": [
      "/Users/thiphan/opt/anaconda3/lib/python3.8/site-packages/seaborn/_decorators.py:36: FutureWarning: Pass the following variable as a keyword arg: x. From version 0.12, the only valid positional argument will be `data`, and passing other arguments without an explicit keyword will result in an error or misinterpretation.\n",
      "  warnings.warn(\n"
     ]
    },
    {
     "data": {
      "text/plain": [
       "[Text(0.5, 1.0, 'culture-values-stars Count')]"
      ]
     },
     "execution_count": 17,
     "metadata": {},
     "output_type": "execute_result"
    },
    {
     "data": {
      "image/png": "[encoded data removed]",
      "text/plain": [
       "<Figure size 432x288 with 1 Axes>"
      ]
     },
     "metadata": {
      "needs_background": "light"
     },
     "output_type": "display_data"
    }
   ],
   "source": [
    "# Total number of work-balance-stars by rating\n",
    "\n",
    "sns.countplot(df['culture-values-stars']).set(title = 'culture-values-stars Count')\n",
    "\n"
   ]
  },
  {
   "cell_type": "code",
   "execution_count": 25,
   "id": "8f79d414",
   "metadata": {
    "scrolled": true
   },
   "outputs": [
    {
     "name": "stderr",
     "output_type": "stream",
     "text": [
      "/Users/thiphan/opt/anaconda3/lib/python3.8/site-packages/seaborn/_decorators.py:36: FutureWarning: Pass the following variable as a keyword arg: x. From version 0.12, the only valid positional argument will be `data`, and passing other arguments without an explicit keyword will result in an error or misinterpretation.\n",
      "  warnings.warn(\n"
     ]
    },
    {
     "data": {
      "text/plain": [
       "[Text(0.5, 1.0, 'carrer-opportunities-stars Count')]"
      ]
     },
     "execution_count": 25,
     "metadata": {},
     "output_type": "execute_result"
    },
    {
     "data": {
      "image/png": "[encoded data removed]",
      "text/plain": [
       "<Figure size 432x288 with 1 Axes>"
      ]
     },
     "metadata": {
      "needs_background": "light"
     },
     "output_type": "display_data"
    }
   ],
   "source": [
    "# Total number of carrer-opportunities-stars by rating\n",
    "\n",
    "sns.countplot(df['carrer-opportunities-stars']).set(title = 'carrer-opportunities-stars Count')\n"
   ]
  },
  {
   "cell_type": "code",
   "execution_count": 26,
   "id": "ee67e86d",
   "metadata": {},
   "outputs": [
    {
     "name": "stderr",
     "output_type": "stream",
     "text": [
      "/Users/thiphan/opt/anaconda3/lib/python3.8/site-packages/seaborn/_decorators.py:36: FutureWarning: Pass the following variable as a keyword arg: x. From version 0.12, the only valid positional argument will be `data`, and passing other arguments without an explicit keyword will result in an error or misinterpretation.\n",
      "  warnings.warn(\n"
     ]
    },
    {
     "data": {
      "text/plain": [
       "[Text(0.5, 1.0, 'comp-benefit-stars Count')]"
      ]
     },
     "execution_count": 26,
     "metadata": {},
     "output_type": "execute_result"
    },
    {
     "data": {
      "image/png": "[encoded data removed]",
      "text/plain": [
       "<Figure size 432x288 with 1 Axes>"
      ]
     },
     "metadata": {
      "needs_background": "light"
     },
     "output_type": "display_data"
    }
   ],
   "source": [
    "# Total number of comp-benefit-stars by rating\n",
    "\n",
    "sns.countplot(df['comp-benefit-stars']).set(title = 'comp-benefit-stars Count')\n",
    "\n"
   ]
  },
  {
   "cell_type": "code",
   "execution_count": 28,
   "id": "f487bfec",
   "metadata": {},
   "outputs": [
    {
     "name": "stderr",
     "output_type": "stream",
     "text": [
      "/Users/thiphan/opt/anaconda3/lib/python3.8/site-packages/seaborn/_decorators.py:36: FutureWarning: Pass the following variable as a keyword arg: x. From version 0.12, the only valid positional argument will be `data`, and passing other arguments without an explicit keyword will result in an error or misinterpretation.\n",
      "  warnings.warn(\n"
     ]
    },
    {
     "data": {
      "text/plain": [
       "[Text(0.5, 1.0, 'comp-benefit-stars Count')]"
      ]
     },
     "execution_count": 28,
     "metadata": {},
     "output_type": "execute_result"
    },
    {
     "data": {
      "image/png": "[encoded data removed]",
      "text/plain": [
       "<Figure size 432x288 with 1 Axes>"
      ]
     },
     "metadata": {
      "needs_background": "light"
     },
     "output_type": "display_data"
    }
   ],
   "source": [
    "# Total number of comp-benefit-stars by rating\n",
    "\n",
    "sns.countplot(df['comp-benefit-stars']).set(title = 'comp-benefit-stars Count')\n"
   ]
  },
  {
   "cell_type": "code",
   "execution_count": 27,
   "id": "f3ec8db5",
   "metadata": {},
   "outputs": [
    {
     "name": "stderr",
     "output_type": "stream",
     "text": [
      "/Users/thiphan/opt/anaconda3/lib/python3.8/site-packages/seaborn/_decorators.py:36: FutureWarning: Pass the following variable as a keyword arg: x. From version 0.12, the only valid positional argument will be `data`, and passing other arguments without an explicit keyword will result in an error or misinterpretation.\n",
      "  warnings.warn(\n"
     ]
    },
    {
     "data": {
      "text/plain": [
       "[Text(0.5, 1.0, 'senior-mangemnet-stars Count')]"
      ]
     },
     "execution_count": 27,
     "metadata": {},
     "output_type": "execute_result"
    },
    {
     "data": {
      "image/png": "[encoded data removed]",
      "text/plain": [
       "<Figure size 432x288 with 1 Axes>"
      ]
     },
     "metadata": {
      "needs_background": "light"
     },
     "output_type": "display_data"
    }
   ],
   "source": [
    "# Total number of senior-mangemnet-stars by rating\n",
    "\n",
    "sns.countplot(df['senior-mangemnet-stars']).set(title = 'senior-mangemnet-stars Count')\n"
   ]
  },
  {
   "cell_type": "code",
   "execution_count": 15,
   "id": "1778b0c7",
   "metadata": {},
   "outputs": [
    {
     "name": "stderr",
     "output_type": "stream",
     "text": [
      "/Users/thiphan/opt/anaconda3/lib/python3.8/site-packages/seaborn/_decorators.py:36: FutureWarning: Pass the following variable as a keyword arg: x. From version 0.12, the only valid positional argument will be `data`, and passing other arguments without an explicit keyword will result in an error or misinterpretation.\n",
      "  warnings.warn(\n"
     ]
    },
    {
     "data": {
      "text/plain": [
       "[Text(0.5, 1.0, 'Count of Employee Type')]"
      ]
     },
     "execution_count": 15,
     "metadata": {},
     "output_type": "execute_result"
    },
    {
     "data": {
      "image/png": "[encoded data removed]",
      "text/plain": [
       "<Figure size 432x288 with 1 Axes>"
      ]
     },
     "metadata": {
      "needs_background": "light"
     },
     "output_type": "display_data"
    }
   ],
   "source": [
    "# count the employee types\n",
    "\n",
    "sns.countplot(df['Employee Type']).set(title = 'Count of Employee Type')\n"
   ]
  },
  {
   "cell_type": "markdown",
   "id": "0ee66592",
   "metadata": {},
   "source": [
    "# Create new dataset and new file for sentiment analysis"
   ]
  },
  {
   "cell_type": "code",
   "execution_count": 32,
   "id": "2c2357f4",
   "metadata": {},
   "outputs": [
    {
     "data": {
      "text/html": [
       "<div>\n",
       "<style scoped>\n",
       "    .dataframe tbody tr th:only-of-type {\n",
       "        vertical-align: middle;\n",
       "    }\n",
       "\n",
       "    .dataframe tbody tr th {\n",
       "        vertical-align: top;\n",
       "    }\n",
       "\n",
       "    .dataframe thead th {\n",
       "        text-align: right;\n",
       "    }\n",
       "</style>\n",
       "<table border=\"1\" class=\"dataframe\">\n",
       "  <thead>\n",
       "    <tr style=\"text-align: right;\">\n",
       "      <th></th>\n",
       "      <th>overall-ratings</th>\n",
       "      <th>Employee Type</th>\n",
       "      <th>summary</th>\n",
       "      <th>pros</th>\n",
       "      <th>cons</th>\n",
       "      <th>advice-to-mgmt</th>\n",
       "    </tr>\n",
       "  </thead>\n",
       "  <tbody>\n",
       "    <tr>\n",
       "      <th>0</th>\n",
       "      <td>5</td>\n",
       "      <td>Current Employee</td>\n",
       "      <td>An Amazing Place to Work</td>\n",
       "      <td>I've been at Amazon for a month now, and I've ...</td>\n",
       "      <td>No cons, so far - seriously. Like I said, I'm ...</td>\n",
       "      <td>none</td>\n",
       "    </tr>\n",
       "    <tr>\n",
       "      <th>1</th>\n",
       "      <td>5</td>\n",
       "      <td>Current Employee</td>\n",
       "      <td>Software Development Engineering Manager</td>\n",
       "      <td>Work hard, have fun, make history. Be proud of...</td>\n",
       "      <td>RUS grand each year related to last year's sto...</td>\n",
       "      <td>none</td>\n",
       "    </tr>\n",
       "    <tr>\n",
       "      <th>2</th>\n",
       "      <td>5</td>\n",
       "      <td>Current Employee</td>\n",
       "      <td>You Get What You Put In</td>\n",
       "      <td>Really smart people, a lot of opportunity for ...</td>\n",
       "      <td>You have to be self motivated. NO ONE will hol...</td>\n",
       "      <td>More on-boarding training before new employees...</td>\n",
       "    </tr>\n",
       "    <tr>\n",
       "      <th>3</th>\n",
       "      <td>3</td>\n",
       "      <td>Current Employee</td>\n",
       "      <td>Exciting Work, Abusive Culture</td>\n",
       "      <td>Jeff Bezos and his \"S-Team\" are brilliant and ...</td>\n",
       "      <td>The management process is abusive, and I'm cur...</td>\n",
       "      <td>Don't pretend that the recent NY Times article...</td>\n",
       "    </tr>\n",
       "    <tr>\n",
       "      <th>4</th>\n",
       "      <td>4</td>\n",
       "      <td>Current Employee</td>\n",
       "      <td>Can be amazing for some people, horrible for o...</td>\n",
       "      <td>Amazon is doing lot's of cool stuff...but lots...</td>\n",
       "      <td>- You're responsible for your own career progr...</td>\n",
       "      <td>Stack ranking is a horrible practice since it'...</td>\n",
       "    </tr>\n",
       "  </tbody>\n",
       "</table>\n",
       "</div>"
      ],
      "text/plain": [
       "   overall-ratings      Employee Type  \\\n",
       "0                5  Current Employee    \n",
       "1                5  Current Employee    \n",
       "2                5  Current Employee    \n",
       "3                3  Current Employee    \n",
       "4                4  Current Employee    \n",
       "\n",
       "                                             summary  \\\n",
       "0                           An Amazing Place to Work   \n",
       "1           Software Development Engineering Manager   \n",
       "2                            You Get What You Put In   \n",
       "3                     Exciting Work, Abusive Culture   \n",
       "4  Can be amazing for some people, horrible for o...   \n",
       "\n",
       "                                                pros  \\\n",
       "0  I've been at Amazon for a month now, and I've ...   \n",
       "1  Work hard, have fun, make history. Be proud of...   \n",
       "2  Really smart people, a lot of opportunity for ...   \n",
       "3  Jeff Bezos and his \"S-Team\" are brilliant and ...   \n",
       "4  Amazon is doing lot's of cool stuff...but lots...   \n",
       "\n",
       "                                                cons  \\\n",
       "0  No cons, so far - seriously. Like I said, I'm ...   \n",
       "1  RUS grand each year related to last year's sto...   \n",
       "2  You have to be self motivated. NO ONE will hol...   \n",
       "3  The management process is abusive, and I'm cur...   \n",
       "4  - You're responsible for your own career progr...   \n",
       "\n",
       "                                      advice-to-mgmt  \n",
       "0                                               none  \n",
       "1                                               none  \n",
       "2  More on-boarding training before new employees...  \n",
       "3  Don't pretend that the recent NY Times article...  \n",
       "4  Stack ranking is a horrible practice since it'...  "
      ]
     },
     "execution_count": 32,
     "metadata": {},
     "output_type": "execute_result"
    }
   ],
   "source": [
    "# create new dataset from df\n",
    "review_nlp = df[['overall-ratings', 'Employee Type', 'summary', 'pros', 'cons', 'advice-to-mgmt']]\n",
    "review_nlp.head()"
   ]
  },
  {
   "cell_type": "code",
   "execution_count": 33,
   "id": "8390e042",
   "metadata": {},
   "outputs": [],
   "source": [
    "# Write to new file\n",
    "\n",
    "review_nlp.to_csv('review_text.csv', index=False)\n"
   ]
  },
  {
   "cell_type": "code",
   "execution_count": null,
   "id": "e3f0efbe",
   "metadata": {},
   "outputs": [],
   "source": []
  }
 ],
 "metadata": {
  "kernelspec": {
   "display_name": "Python 3 (ipykernel)",
   "language": "python",
   "name": "python3"
  },
  "language_info": {
   "codemirror_mode": {
    "name": "ipython",
    "version": 3
   },
   "file_extension": ".py",
   "mimetype": "text/x-python",
   "name": "python",
   "nbconvert_exporter": "python",
   "pygments_lexer": "ipython3",
   "version": "3.8.3"
  }
 },
 "nbformat": 4,
 "nbformat_minor": 5
}
